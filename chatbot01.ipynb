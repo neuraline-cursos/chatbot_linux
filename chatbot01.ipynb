{
 "cells": [
  {
   "cell_type": "markdown",
   "metadata": {},
   "source": [
    "<h3>CHATBOT</h3>\n",
    "<hr>"
   ]
  },
  {
   "cell_type": "markdown",
   "metadata": {},
   "source": [
    "<h4>Importação e Instanciação dos Objetos</h4>"
   ]
  },
  {
   "cell_type": "code",
   "execution_count": 1,
   "metadata": {},
   "outputs": [],
   "source": [
    "# importação dos módulos que serão usados no código\n",
    "from Neuraline.QuantumPhysics.quantum_computing import QUANTUM_COMPUTER # importação da arquitetura de computação quântica\n",
    "from Neuraline.ObjectiveAI.chatbot import Chatbot # importação da classe do chatbot\n",
    "from Neuraline.Utilities.data import DataTable # importação da classe para visualização de dados tabulares\n",
    "chatbot = Chatbot( # instanciação do objeto da classe do chatbot\n",
    "    architecture=QUANTUM_COMPUTER # arquitetura para acesso remoto ao computador quântico\n",
    ") # a arquitetura quântica tornará a abstração de padrões do treinemento mais rápida durante a inserção dos dados\n",
    "data_table = DataTable() # instanciação do objeto da classe para visualização de dados tabulares"
   ]
  },
  {
   "cell_type": "markdown",
   "metadata": {},
   "source": [
    "<hr>"
   ]
  },
  {
   "cell_type": "markdown",
   "metadata": {},
   "source": [
    "<h4>Exemplo de Inserção/Cadastro de Usuário</h4>"
   ]
  },
  {
   "cell_type": "code",
   "execution_count": 2,
   "metadata": {},
   "outputs": [
    {
     "name": "stdout",
     "output_type": "stream",
     "text": [
      "Usuário INSERIDO com SUCESSO!\n"
     ]
    }
   ],
   "source": [
    "result = chatbot.insertUser( # função para inserção de usuários\n",
    "    id=1, # código de identificação sequencial do usuário\n",
    "    full_name='Fulano de Tal', # nome completo do usuário\n",
    "    user_name='fulano', # nome para acesso ao sistema\n",
    "    password='123', # senha de acesso ao sistema\n",
    "    gender='M', # sexo do usuário, M (Masculino) ou F (Feminino)\n",
    "    administrator=1, # 0 se for um usuário comum ou 1 se for um usuário com privilégios de administrador\n",
    "    activated=1 # 0 para impedir o acesso do usuário ao sistema ou 1 para manter o usuário ativo\n",
    ") # retornará verdadeiro se a inserção for bem sucedida ou falso se houver algum erro\n",
    "# se o cadastro for concluído com sucesso exibirá uma mensagem de sucesso, caso contrário exibirá uma mensagem de fracasso\n",
    "if result: print('Usuário INSERIDO com SUCESSO!') # mensagem de sucesso\n",
    "else: print('ERRO ao inserir o usuário.') # mensagem de fracasso"
   ]
  },
  {
   "cell_type": "markdown",
   "metadata": {},
   "source": [
    "<h4>Inserção/Cadastro de Outros Usuários de Exemplo</h4>"
   ]
  },
  {
   "cell_type": "code",
   "execution_count": 3,
   "metadata": {},
   "outputs": [
    {
     "name": "stdout",
     "output_type": "stream",
     "text": [
      "Usuários INSERIDOS com SUCESSO!\n"
     ]
    }
   ],
   "source": [
    "result = [] # lista para armazenar os booleanos de retorno da função de cadastro\n",
    "# inserção dos cadastros de usuário um a um com cada retorno sendo inserido na lista de resultados\n",
    "# o parâmetro \"administrator\" receberá 0 como padrão e o parâmetro \"activated\" receberá 1\n",
    "result.append(chatbot.insertUser(id=2, full_name='Beotrano de Tal', user_name='beotrano', password='234', gender='M'))\n",
    "result.append(chatbot.insertUser(id=3, full_name='Ciclano de Tal', user_name='ciclano', password='345', gender='M'))\n",
    "result.append(chatbot.insertUser(id=4, full_name='Fulana de Tal', user_name='fulana', password='123', gender='F'))\n",
    "result.append(chatbot.insertUser(id=5, full_name='Beotrana de Tal', user_name='beotrana', password='234', gender='F'))\n",
    "result.append(chatbot.insertUser(id=6, full_name='Ciclana de Tal', user_name='ciclana', password='456', gender='F'))\n",
    "# se o menor valor da lista for 1 (verdadeiro) então todas as inserções terão sido bem sucedidas\n",
    "if min(result): print('Usuários INSERIDOS com SUCESSO!') # mensagem de sucesso\n",
    "else: print('ERRO ao inserir os usuários.') # mensagem de fracasso"
   ]
  },
  {
   "cell_type": "markdown",
   "metadata": {},
   "source": [
    "<hr>"
   ]
  },
  {
   "cell_type": "markdown",
   "metadata": {},
   "source": [
    "<h4>Seleção Completa do Cadastro de Usuários</h4>"
   ]
  },
  {
   "cell_type": "code",
   "execution_count": 4,
   "metadata": {},
   "outputs": [
    {
     "name": "stdout",
     "output_type": "stream",
     "text": [
      "ID: 1 - FULL NAME:        Fulano de Tal - GENDER: M - ACTIVATED: 1\n",
      "ID: 2 - FULL NAME:      Beotrano de Tal - GENDER: M - ACTIVATED: 1\n",
      "ID: 3 - FULL NAME:       Ciclano de Tal - GENDER: M - ACTIVATED: 1\n",
      "ID: 4 - FULL NAME:        Fulana de Tal - GENDER: F - ACTIVATED: 1\n",
      "ID: 5 - FULL NAME:      Beotrana de Tal - GENDER: F - ACTIVATED: 1\n",
      "ID: 6 - FULL NAME:       Ciclana de Tal - GENDER: F - ACTIVATED: 1\n"
     ]
    }
   ],
   "source": [
    "users = chatbot.selectAllUsers( # função para seleção do cadastro de usuários\n",
    "    order_by='id', # campo de ordenação da lista de retorno\n",
    "    decreasing=False, # se verdadeiro irá inverter a ordenação para a ordem decrescente\n",
    "    only_activated=False # se verdadeiro retornará apenas os usuários que o valor do campo \"activated\" for igual a 1\n",
    ") # retornará uma lista de dicionários com um dicionário para cada usuário e uma chave com um nome e valor para cada campo\n",
    "for user in users: # loop que percorrerá cada usuário que será representado pela variável de controle \"user\"\n",
    "    # nas linhas seguintes será exibido um resumo dos principais campos de cadastro do usuário\n",
    "    id = user[\"id\"] # código de identificação sequencial do usuário\n",
    "    full_name = str(user[\"full_name\"]).rjust(20, \" \") # nome completo do usuário\n",
    "    gender = user[\"gender\"] # sexo do usuário, M (Masculino) ou F (Feminino)\n",
    "    activated = user[\"activated\"] # 0 para impedir o acesso do usuário ao sistema ou 1 para manter o usuário ativo\n",
    "    print(f'ID: {id} - FULL NAME: {full_name} - GENDER: {gender} - ACTIVATED: {activated}') # exibição do cadastro corrente"
   ]
  },
  {
   "cell_type": "markdown",
   "metadata": {},
   "source": [
    "<hr>"
   ]
  },
  {
   "cell_type": "markdown",
   "metadata": {},
   "source": [
    "<h4>Inserção/Cadastro de Registro para Pergunta e Resposta</h4>"
   ]
  },
  {
   "cell_type": "code",
   "execution_count": 5,
   "metadata": {},
   "outputs": [
    {
     "name": "stdout",
     "output_type": "stream",
     "text": [
      "Registro INSERIDO com SUCESSO!\n"
     ]
    }
   ],
   "source": [
    "result = chatbot.insertRegister( # função para inserção de registro com pergunta e resposta\n",
    "    id=1, # código de identificação sequencial do registro\n",
    "    external_user_id=1, # código do usuário cadastrado que receberá o registro\n",
    "    relationship_id=0, # código de um dos registros anteriores para o qual a resposta será a pergunta atual; 0: indefinido\n",
    "    question='Testando pergunta.', # pergunta vinculada a resposta atual do campo \"answer\"\n",
    "    answer='Pergunta respondida com sucesso.', # resposta para uma pergunta igual ou semelhante a do campo \"question\"\n",
    "    activated=1 # 0 para impedir que o registro seja usado no chat ou 1 para manter o registro ativo\n",
    ") # retornará verdadeiro se a inserção for bem sucedida ou falso se houver algum erro\n",
    "if result: print('Registro INSERIDO com SUCESSO!') # mensagem de sucesso\n",
    "else: print('ERRO ao inserir o registro.') # mensagem de fracasso"
   ]
  },
  {
   "cell_type": "markdown",
   "metadata": {},
   "source": [
    "<h4>Teste de Conversação</h4>"
   ]
  },
  {
   "cell_type": "code",
   "execution_count": 6,
   "metadata": {},
   "outputs": [
    {
     "name": "stdout",
     "output_type": "stream",
     "text": [
      "PERGUNTA: Testando pergunta.\n",
      "RESPOSTA: Pergunta respondida com sucesso.\n"
     ]
    }
   ],
   "source": [
    "question = 'Testando pergunta.' # pergunta que será feita para o robô/bot\n",
    "result = chatbot.conversation( # função para conversação com o bot\n",
    "    external_user_id=1, # identificador do usuário que terá o seu registro de pergunta e resposta consultado\n",
    "    question=question, # atribuição da variável de pergunta ao parâmetro correspondente\n",
    "    abbreviations='pt-br' # sigla do idioma usado na interpretação de abreviações linguísticas\n",
    ") # retornará uma lista de dicionários com um dicionário para cada provável resposta e uma chave com um nome e valor para cada campo\n",
    "# no caso de múltiplos retornos, quanto mais próximo de 0 for o índice de resultado, mais precisa será a resposta\n",
    "print(f'PERGUNTA: {result[0][\"original_question\"]}') # exibe a pergunta original que foi feita para o bot\n",
    "print(f'RESPOSTA: {result[0][\"answer\"]}') # exibe a resposta mais provável para a pergunta"
   ]
  },
  {
   "cell_type": "markdown",
   "metadata": {},
   "source": [
    "<h4>Exibe as Colunas Principais dos Primeiros Registros do Arquivo CSV</h4>"
   ]
  },
  {
   "cell_type": "code",
   "execution_count": 7,
   "metadata": {},
   "outputs": [
    {
     "name": "stdout",
     "output_type": "stream",
     "text": [
      "╒══════╤════════════════════╤═════════════════════════╤══════════════════════════════════════════════════════════════════╕\n",
      "│   id │   external_user_id │ question                │ answer                                                           │\n",
      "╞══════╪════════════════════╪═════════════════════════╪══════════════════════════════════════════════════════════════════╡\n",
      "│    2 │                  1 │ Olá!                    │ Olá! Tudo bem?                                                   │\n",
      "├──────┼────────────────────┼─────────────────────────┼──────────────────────────────────────────────────────────────────┤\n",
      "│    3 │                  1 │ Sim! Tudo bem e você?   │ Que bom, eu estou bem também.                                    │\n",
      "├──────┼────────────────────┼─────────────────────────┼──────────────────────────────────────────────────────────────────┤\n",
      "│    4 │                  1 │ Não. Estou mal.         │ Que pena. Espero que as coisas melhorem. Comigo está tudo bem.   │\n",
      "├──────┼────────────────────┼─────────────────────────┼──────────────────────────────────────────────────────────────────┤\n",
      "│    5 │                  1 │ Oi!                     │ Oi! Tudo bem?                                                    │\n",
      "├──────┼────────────────────┼─────────────────────────┼──────────────────────────────────────────────────────────────────┤\n",
      "│    6 │                  1 │ Sim! Tudo bem e você?   │ Que bom, eu estou bem também.                                    │\n",
      "├──────┼────────────────────┼─────────────────────────┼──────────────────────────────────────────────────────────────────┤\n",
      "│    7 │                  1 │ Não. Estou mal.         │ Que pena. Espero que as coisas melhorem. Comigo está tudo bem.   │\n",
      "├──────┼────────────────────┼─────────────────────────┼──────────────────────────────────────────────────────────────────┤\n",
      "│    8 │                  1 │ Quais são as novidades? │ Você gosta de cursos online?                                     │\n",
      "├──────┼────────────────────┼─────────────────────────┼──────────────────────────────────────────────────────────────────┤\n",
      "│    9 │                  1 │ Sim eu gosto.           │ Legal então confira a nossa página de cursos. Temos lançamentos. │\n",
      "├──────┼────────────────────┼─────────────────────────┼──────────────────────────────────────────────────────────────────┤\n",
      "│   10 │                  1 │ Não, eu não gosto.      │ Lamento então não temos novidades por enquanto.                  │\n",
      "├──────┼────────────────────┼─────────────────────────┼──────────────────────────────────────────────────────────────────┤\n",
      "│   11 │                  1 │ Bom dia!                │ Bom dia para você também!                                        │\n",
      "╘══════╧════════════════════╧═════════════════════════╧══════════════════════════════════════════════════════════════════╛\n"
     ]
    }
   ],
   "source": [
    "# também é possível cadastrar perguntas e respostas por meio de uma tabela contida em um arquivo csv\n",
    "# o arquivo deverá ter uma coluna para cada campo do cadastro com os mesmos nomes dos parâmetros\n",
    "# colunas obrigatórias: (id, external_user_id, relationship_id, question, answer, activated)\n",
    "# atenção: o caractere separador não poderá constar em nenhum dos valores de coluna de nenhum dos cadastros\n",
    "# obs: certifique-se de não haver nenhuma linha em branco no final do arquivo\n",
    "result = data_table.visualization_csv_inline( # função para visualização de dados tabulares no formato csv\n",
    "    url_path='./registers.csv', # endereço e nome do arquivo (com a extensão) a ser visualizado\n",
    "    title=True, # se verdadeiro irá interpretar a primeira linha do arquivo como uma linha de títulos das colunas\n",
    "    titles=['id', 'external_user_id', 'question', 'answer'], # nome das colunas a serem visualizadas\n",
    "    separator=';', # caractere separador do arquivo csv (não poderá constar em nenhuma das perguntas ou respostas)\n",
    "    limit=10 # limite de linhas a serem exibidas para não poluir a tela (exibirá apenas as dez primeiras linhas)\n",
    ") # serão exibidas apenas algumas linhas e colunas somente para se ter uma ideia da estrutura do arquivo"
   ]
  },
  {
   "cell_type": "markdown",
   "metadata": {},
   "source": [
    "<h4>Inserção/Cadastro dos Registros para Perguntas e Respostas do Arquivo CSV</h4>"
   ]
  },
  {
   "cell_type": "code",
   "execution_count": 8,
   "metadata": {},
   "outputs": [
    {
     "name": "stdout",
     "output_type": "stream",
     "text": [
      "Registros INSERIDOS com SUCESSO!\n"
     ]
    }
   ],
   "source": [
    "# os registros poderão ser inseridos manualmente pela função \"insertRegister\" ou de maneira automatizada com um arquivo csv\n",
    "# as funções \"insertRegister\" e \"insertRegisterCSV\" irão treinar automaticamente as redes neurais do modelo durante a inserção\n",
    "result = chatbot.insertRegisterCSV( # função para inserção de registros através de um arquivo csv\n",
    "    url_path='./registers.csv', # endereço e nome do arquivo (com a extensão) a ser lido\n",
    "    separator=';' # caractere separador do arquivo csv (não poderá constar em nenhuma das perguntas ou respostas)\n",
    ") # retornará verdadeiro se a inserção for bem sucedida ou falso se houver algum erro\n",
    "if result: print('Registros INSERIDOS com SUCESSO!') # mensagem de sucesso\n",
    "else: print('ERRO ao inserir os registros.') # mensagem de fracasso"
   ]
  },
  {
   "cell_type": "markdown",
   "metadata": {},
   "source": [
    "<h4>Inserção/Cadastro das Respostas que Serão Usadas Quando Nenhuma Resposta Adequada for Encontrada</h4>"
   ]
  },
  {
   "cell_type": "code",
   "execution_count": 9,
   "metadata": {},
   "outputs": [
    {
     "name": "stdout",
     "output_type": "stream",
     "text": [
      "Respostas Padrão INSERIDAS com SUCESSO!\n"
     ]
    }
   ],
   "source": [
    "result = [] # lista para armazenar os booleanos de retorno da função de cadastro\n",
    "# inserção dos cadastros de resposta padrão um a um com cada retorno sendo inserido na lista de resultados\n",
    "# external_user_id: identificador do usuário que receberá a resposta padrão\n",
    "# answer: resposta padrão para quando nenhuma resposta adequada for encontrada na consulta\n",
    "result.append(chatbot.setDefaultAnswer(external_user_id=1, answer='Desculpe mas não sei informar.'))\n",
    "result.append(chatbot.setDefaultAnswer(external_user_id=2, answer='Desculpe mas não sei informar.'))\n",
    "result.append(chatbot.setDefaultAnswer(external_user_id=3, answer='Desculpe mas não sei informar.'))\n",
    "result.append(chatbot.setDefaultAnswer(external_user_id=4, answer='Desculpe mas não sei informar.'))\n",
    "result.append(chatbot.setDefaultAnswer(external_user_id=5, answer='Desculpe mas não sei informar.'))\n",
    "result.append(chatbot.setDefaultAnswer(external_user_id=6, answer='Desculpe mas não sei informar.'))\n",
    "# se o menor valor da lista for 1 (verdadeiro) então todas as inserções terão sido bem sucedidas\n",
    "if min(result): print('Respostas Padrão INSERIDAS com SUCESSO!') # mensagem de sucesso\n",
    "else: print('ERRO ao inserir as respostas padrão.') # mensagem de fracasso"
   ]
  },
  {
   "cell_type": "markdown",
   "metadata": {},
   "source": [
    "<hr>"
   ]
  },
  {
   "cell_type": "markdown",
   "metadata": {},
   "source": [
    "<h4>Seleção Completa dos Registros Cadastrados</h4>"
   ]
  },
  {
   "cell_type": "code",
   "execution_count": 10,
   "metadata": {},
   "outputs": [
    {
     "name": "stdout",
     "output_type": "stream",
     "text": [
      "ID: 1 - USER ID: 1 - RELATIONSHIP: 0\n",
      "QUESTION: Testando pergunta.\n",
      "ANSWER: Pergunta respondida com sucesso.\n",
      "\n",
      "\n",
      "ID: 2 - USER ID: 1 - RELATIONSHIP: 0\n",
      "QUESTION: Olá!\n",
      "ANSWER: Olá! Tudo bem?\n",
      "\n",
      "\n",
      "ID: 3 - USER ID: 1 - RELATIONSHIP: 2\n",
      "QUESTION: Sim! Tudo bem e você?\n",
      "ANSWER: Que bom, eu estou bem também.\n",
      "\n",
      "\n",
      "ID: 4 - USER ID: 1 - RELATIONSHIP: 2\n",
      "QUESTION: Não. Estou mal.\n",
      "ANSWER: Que pena. Espero que as coisas melhorem. Comigo está tudo bem.\n",
      "\n",
      "\n",
      "ID: 5 - USER ID: 1 - RELATIONSHIP: 0\n",
      "QUESTION: Oi!\n",
      "ANSWER: Oi! Tudo bem?\n",
      "\n",
      "\n",
      "Número total de registros cadastrados: 37\n"
     ]
    }
   ],
   "source": [
    "registers = chatbot.selectAllRegisters( # função para selecionar todos os registros cadastrados\n",
    "    order_by='id', # campo de ordenação da lista de retorno\n",
    "    decreasing=False, # se verdadeiro irá inverter a ordenação para a ordem decrescente\n",
    "    only_activated=False # se verdadeiro retornará apenas os registros que o valor do campo \"activated\" for igual a 1\n",
    ") # retornará uma lista de dicionários com um dicionário para cada registro e uma chave com um nome e valor para cada campo\n",
    "limit = 5 # limite máximo de registros a serem exibidos para não poluir a tela com todos os registros\n",
    "for register in registers[:limit]: # loop que percorrerá cada registro que será representado pela variável de controle \"register\"\n",
    "    # nas linhas seguintes serão exibidos somente os campos principais de cada registro cadastrado um a um\n",
    "    print(f'ID: {register[\"id\"]} - USER ID: {register[\"external_user_id\"]} - RELATIONSHIP: {register[\"relationship_id\"]}')\n",
    "    print(f'QUESTION: {register[\"question\"]}') # pergunta cadastrada no registro corrente\n",
    "    print(f'ANSWER: {register[\"answer\"]}') # resposta cadastrada no registro corrente\n",
    "    print('\\n') # caractere de quebra de linha\n",
    "print(f'Número total de registros cadastrados: {len(registers)}') # exibição do número total de registros cadastrados"
   ]
  },
  {
   "cell_type": "markdown",
   "metadata": {},
   "source": [
    "<hr>"
   ]
  },
  {
   "cell_type": "markdown",
   "metadata": {},
   "source": [
    "<h4>Edição/Alteração de Usuários Cadastrados</h4>"
   ]
  },
  {
   "cell_type": "code",
   "execution_count": 11,
   "metadata": {},
   "outputs": [
    {
     "name": "stdout",
     "output_type": "stream",
     "text": [
      "ANTES da alteração:\n",
      "ID: 5 - FULL NAME: Beotrana de Tal\n",
      "\n",
      "Registro ALTERADO com SUCESSO!\n",
      "\n",
      "DEPOIS da alteração:\n",
      "ID: 5 - FULL NAME: NOME ALTERADO\n",
      "\n",
      "Registro ALTERADO com SUCESSO!\n",
      "\n",
      "DEPOIS da NOVA alteração:\n",
      "ID: 5 - FULL NAME: Beotrana de Tal\n",
      "\n"
     ]
    }
   ],
   "source": [
    "id = 5 # código identificador do usuário que será usado como exemplo\n",
    "# dados originais antes da alteração\n",
    "print('ANTES da alteração:') # mensagem descritiva\n",
    "# como exemplo será selecionado o usuário que tenha o \"id\" igual a 5\n",
    "user = chatbot.selectIDUser(id=id) # função para seleção de usuário pelo código identificador\n",
    "print(f'ID: {user[0][\"id\"]} - FULL NAME: {user[0][\"full_name\"]}\\n') # exibição dos principais campos do usuário selecionado\n",
    "# na linha abaixo a função \"updateUser\" irá alterar o nome completo do usuário que tenha o \"id\" igual a 5\n",
    "result = chatbot.updateUser(id=id, full_name='NOME ALTERADO') # alteração do nome completo\n",
    "# análise do booleano retornado como resultado da edição/alteração\n",
    "if result: print('Registro ALTERADO com SUCESSO!\\n') # mensagem de sucesso\n",
    "else: print('ERRO ao alterar o registro.\\n') # mensagem de fracasso\n",
    "# dados depois da alteração do nome completo\n",
    "print('DEPOIS da alteração:') # mensagem descritiva\n",
    "# será selecionado o mesmo usuário que teve o seu nome completo alterado anteriormente\n",
    "user = chatbot.selectIDUser(id=id) # função para seleção de usuário pelo código identificador\n",
    "print(f'ID: {user[0][\"id\"]} - FULL NAME: {user[0][\"full_name\"]}\\n') # exibição dos principais campos do usuário selecionado\n",
    "# na linha abaixo a função \"updateUser\" irá alterar o nome completo do usuário que tenha o \"id\" igual a 5\n",
    "result = chatbot.updateUser(id=id, full_name='Beotrana de Tal') # alteração do nome completo para o valor original\n",
    "# análise do booleano retornado como resultado da edição/alteração\n",
    "if result: print('Registro ALTERADO com SUCESSO!\\n') # mensagem de sucesso\n",
    "else: print('ERRO ao alterar o registro.\\n') # mensagem de fracasso\n",
    "# dados depois da nova alteração do nome completo\n",
    "print('DEPOIS da NOVA alteração:') # mensagem descritiva\n",
    "# será selecionado o mesmo usuário que teve o seu nome completo alterado anteriormente\n",
    "user = chatbot.selectIDUser(id=id) # função para seleção de usuário pelo código identificador\n",
    "print(f'ID: {user[0][\"id\"]} - FULL NAME: {user[0][\"full_name\"]}\\n') # exibição dos principais campos do usuário selecionado"
   ]
  },
  {
   "cell_type": "markdown",
   "metadata": {},
   "source": [
    "<h4>Edição/Alteração de Registros Cadastrados</h4>"
   ]
  },
  {
   "cell_type": "code",
   "execution_count": 12,
   "metadata": {},
   "outputs": [
    {
     "name": "stdout",
     "output_type": "stream",
     "text": [
      "ANTES da alteração:\n",
      "ID: 1 - QUESTION: Testando pergunta. - ANSWER: Pergunta respondida com sucesso.\n",
      "\n",
      "Registro ALTERADO com SUCESSO!\n",
      "\n",
      "DEPOIS da alteração:\n",
      "ID: 1 - QUESTION: PERGUNTA ALTERADA - ANSWER: RESPOSTA ALTERADA\n",
      "\n",
      "Registro ALTERADO com SUCESSO!\n",
      "\n",
      "DEPOIS da NOVA alteração:\n",
      "ID: 1 - QUESTION: Testando pergunta. - ANSWER: Pergunta respondida com sucesso.\n",
      "\n"
     ]
    }
   ],
   "source": [
    "id = 1 # código identificador do registro que será usado como exemplo\n",
    "# dados originais antes da alteração\n",
    "print('ANTES da alteração:') # mensagem descritiva\n",
    "# como exemplo será selecionado o registro que tenha o \"id\" igual a 1\n",
    "register = chatbot.selectIDRegister(id=id) # função para seleção de registro pelo código identificador\n",
    "# na linha seguinte serão exibidos somente os principais campos do registro selecionado\n",
    "print(f'ID: {register[0][\"id\"]} - QUESTION: {register[0][\"question\"]} - ANSWER: {register[0][\"answer\"]}\\n')\n",
    "# na linha seguinte a função \"updateRegister\" irá alterar a pergunta e a resposta do registro que tenha o \"id\" igual a 1\n",
    "result = chatbot.updateRegister(id=id, question='PERGUNTA ALTERADA', answer='RESPOSTA ALTERADA') # alteração dos dados\n",
    "# análise do booleano retornado como resultado da edição/alteração\n",
    "if result: print('Registro ALTERADO com SUCESSO!\\n') # mensagem de sucesso\n",
    "else: print('ERRO ao alterar o registro.\\n') # mensagem de fracasso\n",
    "# dados depois da alteração da pergunta e da resposta\n",
    "print('DEPOIS da alteração:') # mensagem descritiva\n",
    "# será selecionado o mesmo registro que teve a sua pergunta e a sua resposta alteradas anteriormente\n",
    "register = chatbot.selectIDRegister(id=id) # função para seleção de registro pelo código identificador\n",
    "# na linha seguinte serão exibidos somente os principais campos do registro selecionado\n",
    "print(f'ID: {register[0][\"id\"]} - QUESTION: {register[0][\"question\"]} - ANSWER: {register[0][\"answer\"]}\\n')\n",
    "# na linha seguinte a função \"updateRegister\" irá alterar a pergunta e a resposta do registro que tenha o \"id\" igual a 1\n",
    "# a pergunta e a resposta serão alteradas para os seus valores originais\n",
    "result = chatbot.updateRegister(id=id, question='Testando pergunta.', answer='Pergunta respondida com sucesso.')\n",
    "# análise do booleano retornado como resultado da edição/alteração\n",
    "if result: print('Registro ALTERADO com SUCESSO!\\n') # mensagem de sucesso\n",
    "else: print('ERRO ao alterar o registro.\\n') # mensagem de fracasso\n",
    "# dados depois da nova alteração da pergunta e da resposta\n",
    "print('DEPOIS da NOVA alteração:') # mensagem descritiva\n",
    "register = chatbot.selectIDRegister(id=id) # função para seleção de registro pelo código identificador\n",
    "# na linha seguinte serão exibidos somente os principais campos do registro selecionado\n",
    "print(f'ID: {register[0][\"id\"]} - QUESTION: {register[0][\"question\"]} - ANSWER: {register[0][\"answer\"]}\\n')"
   ]
  },
  {
   "cell_type": "markdown",
   "metadata": {},
   "source": [
    "<hr>"
   ]
  },
  {
   "cell_type": "markdown",
   "metadata": {},
   "source": [
    "<h4>Exclusão/Deleção de Usuários</h4>"
   ]
  },
  {
   "cell_type": "code",
   "execution_count": 13,
   "metadata": {},
   "outputs": [
    {
     "name": "stdout",
     "output_type": "stream",
     "text": [
      "ANTES da deleção:\n",
      "ID: 1 - FULL NAME:        Fulano de Tal - GENDER: M - ACTIVATED: 1\n",
      "ID: 2 - FULL NAME:      Beotrano de Tal - GENDER: M - ACTIVATED: 1\n",
      "ID: 3 - FULL NAME:       Ciclano de Tal - GENDER: M - ACTIVATED: 1\n",
      "ID: 4 - FULL NAME:        Fulana de Tal - GENDER: F - ACTIVATED: 1\n",
      "ID: 5 - FULL NAME:      Beotrana de Tal - GENDER: F - ACTIVATED: 1\n",
      "ID: 6 - FULL NAME:       Ciclana de Tal - GENDER: F - ACTIVATED: 1\n",
      "\n",
      "Usuário DELETADO com SUCESSO!\n",
      "\n",
      "DEPOIS da deleção:\n",
      "ID: 1 - FULL NAME:        Fulano de Tal - GENDER: M - ACTIVATED: 1\n",
      "ID: 2 - FULL NAME:      Beotrano de Tal - GENDER: M - ACTIVATED: 1\n",
      "ID: 3 - FULL NAME:       Ciclano de Tal - GENDER: M - ACTIVATED: 1\n",
      "ID: 4 - FULL NAME:        Fulana de Tal - GENDER: F - ACTIVATED: 1\n",
      "ID: 6 - FULL NAME:       Ciclana de Tal - GENDER: F - ACTIVATED: 1\n"
     ]
    }
   ],
   "source": [
    "# dados originais antes da deleção\n",
    "print('ANTES da deleção:') # mensagem descritiva\n",
    "users = chatbot.selectAllUsers(order_by='id') # função para seleção do cadastro de usuários (ordenados por \"id\")\n",
    "for user in users: # loop que percorrerá cada usuário que será representado pela variável de controle \"user\"\n",
    "    id = user[\"id\"] # código de identificação sequencial do usuário\n",
    "    full_name = str(user[\"full_name\"]).rjust(20, \" \") # nome completo do usuário\n",
    "    gender = user[\"gender\"] # sexo do usuário, M (Masculino) ou F (Feminino)\n",
    "    activated = user[\"activated\"] # 0 para impedir o acesso do usuário ao sistema ou 1 para manter o usuário ativo\n",
    "    print(f'ID: {id} - FULL NAME: {full_name} - GENDER: {gender} - ACTIVATED: {activated}') # exibição do cadastro corrente\n",
    "# código para exclusão/deleção de usuário cadastrado\n",
    "result = chatbot.deleteUser( # função para deleção de usuário\n",
    "    id=5, # código identificador do usuário que será deletado\n",
    "    delete_data=True # se verdadeiro removerá todos os cadastros vinculados ao usuário deletado\n",
    ") # retornará verdadeiro se a deleção for bem sucedida ou falso se houver algum erro\n",
    "if result: print('\\nUsuário DELETADO com SUCESSO!\\n') # mensagem de sucesso\n",
    "else: print('\\nERRO ao deletar o usuário.\\n') # mensagem de fracasso\n",
    "# dados depois da deleção do usuário\n",
    "print('DEPOIS da deleção:') # mensagem descritiva\n",
    "users = chatbot.selectAllUsers(order_by='id') # função para seleção do cadastro de usuários (ordenados por \"id\")\n",
    "for user in users: # loop que percorrerá cada usuário que será representado pela variável de controle \"user\"\n",
    "    id = user[\"id\"] # código de identificação sequencial do usuário\n",
    "    full_name = str(user[\"full_name\"]).rjust(20, \" \") # nome completo do usuário\n",
    "    gender = user[\"gender\"] # sexo do usuário, M (Masculino) ou F (Feminino)\n",
    "    activated = user[\"activated\"] # 0 para impedir o acesso do usuário ao sistema ou 1 para manter o usuário ativo\n",
    "    print(f'ID: {id} - FULL NAME: {full_name} - GENDER: {gender} - ACTIVATED: {activated}') # exibição do cadastro corrente"
   ]
  },
  {
   "cell_type": "markdown",
   "metadata": {},
   "source": [
    "<h4>Exclusão/Deleção de Registros</h4>"
   ]
  },
  {
   "cell_type": "code",
   "execution_count": 14,
   "metadata": {},
   "outputs": [
    {
     "name": "stdout",
     "output_type": "stream",
     "text": [
      "ANTES da deleção:\n",
      "ID: 1 - USER ID: 1 - RELATIONSHIP: 0\n",
      "QUESTION: Testando pergunta.\n",
      "ANSWER: Pergunta respondida com sucesso.\n",
      "\n",
      "\n",
      "ID: 2 - USER ID: 1 - RELATIONSHIP: 0\n",
      "QUESTION: Olá!\n",
      "ANSWER: Olá! Tudo bem?\n",
      "\n",
      "\n",
      "Número total de registros cadastrados: 37\n",
      "\n",
      "Registro DELETADO com SUCESSO!\n",
      "\n",
      "DEPOIS da deleção:\n",
      "ID: 2 - USER ID: 1 - RELATIONSHIP: 0\n",
      "QUESTION: Olá!\n",
      "ANSWER: Olá! Tudo bem?\n",
      "\n",
      "\n",
      "ID: 3 - USER ID: 1 - RELATIONSHIP: 2\n",
      "QUESTION: Sim! Tudo bem e você?\n",
      "ANSWER: Que bom, eu estou bem também.\n",
      "\n",
      "\n",
      "Número total de registros cadastrados: 36\n"
     ]
    }
   ],
   "source": [
    "# dados originais antes da deleção\n",
    "print('ANTES da deleção:') # mensagem descritiva\n",
    "registers = chatbot.selectAllRegisters(order_by='id') # função para seleção do cadastro de registros (ordenados por \"id\")\n",
    "limit = 2 # limite máximo de registros a serem exibidos para não poluir a tela com todos os registros\n",
    "for register in registers[:limit]: # loop que percorrerá cada registro que será representado pela variável de controle \"register\"\n",
    "    # nas linhas seguintes serão exibidos somente os campos principais de cada registro cadastrado um a um\n",
    "    print(f'ID: {register[\"id\"]} - USER ID: {register[\"external_user_id\"]} - RELATIONSHIP: {register[\"relationship_id\"]}')\n",
    "    print(f'QUESTION: {register[\"question\"]}') # pergunta cadastrada no registro corrente\n",
    "    print(f'ANSWER: {register[\"answer\"]}') # resposta cadastrada no registro corrente\n",
    "    print('\\n') # caractere de quebra de linha\n",
    "print(f'Número total de registros cadastrados: {len(registers)}') # exibição do número total de registros cadastrados\n",
    "# código para exclusão/deleção de registro cadastrado\n",
    "# a linha seguinte retornará verdadeiro se a deleção for bem sucedida ou falso se houver algum erro\n",
    "result = chatbot.deleteRegister(id=1) # função para deleção de registro (será deletado o registro de \"id\" igual a 1)\n",
    "if result: print('\\nRegistro DELETADO com SUCESSO!\\n') # mensagem de sucesso\n",
    "else: print('\\nERRO ao deletar o registro.\\n') # mensagem de fracasso\n",
    "# dados depois da deleção do registro\n",
    "print('DEPOIS da deleção:') # mensagem descritiva\n",
    "registers = chatbot.selectAllRegisters(order_by='id') # função para seleção do cadastro de registros (ordenados por \"id\")\n",
    "for register in registers[:limit]: # loop que percorrerá cada registro que será representado pela variável de controle \"register\"\n",
    "    # nas linhas seguintes serão exibidos somente os campos principais de cada registro cadastrado um a um\n",
    "    print(f'ID: {register[\"id\"]} - USER ID: {register[\"external_user_id\"]} - RELATIONSHIP: {register[\"relationship_id\"]}')\n",
    "    print(f'QUESTION: {register[\"question\"]}') # pergunta cadastrada no registro corrente\n",
    "    print(f'ANSWER: {register[\"answer\"]}') # resposta cadastrada no registro corrente\n",
    "    print('\\n') # caractere de quebra de linha\n",
    "print(f'Número total de registros cadastrados: {len(registers)}') # exibição do número total de registros cadastrados"
   ]
  },
  {
   "cell_type": "markdown",
   "metadata": {},
   "source": [
    "<hr>"
   ]
  },
  {
   "cell_type": "markdown",
   "metadata": {},
   "source": [
    "<h4>Captura de Dados Pessoais (E-Mail/Telefone)</h4>"
   ]
  },
  {
   "cell_type": "code",
   "execution_count": 15,
   "metadata": {},
   "outputs": [
    {
     "name": "stdout",
     "output_type": "stream",
     "text": [
      "ANTES da captura:\n",
      "Número total de capturas cadastradas: 0\n",
      "\n",
      "PERGUNTA: O meu e-mail é fulano@gmail.com e o meu telefone é +55(11)1234-1234.\n",
      "RESPOSTA: Ok.\n",
      "\n",
      "PERGUNTA: O meu e-mail é beotrano@gmail.com e o meu telefone é +55(11)2345-2345.\n",
      "RESPOSTA: Ok.\n",
      "\n",
      "DEPOIS da captura:\n",
      "DATA E HORA DA CAPTURA: 2022/11/4 12:46:30\n",
      "E-MAIL: fulano@gmail.com\n",
      "TELEFONE: 551112341234\n",
      "\n",
      "\n",
      "DATA E HORA DA CAPTURA: 2022/11/4 12:46:30\n",
      "E-MAIL: beotrano@gmail.com\n",
      "TELEFONE: 551123452345\n",
      "\n",
      "\n",
      "Número total de capturas cadastradas: 2\n",
      "\n"
     ]
    }
   ],
   "source": [
    "# base de dados para informações pessoais antes das capturas\n",
    "print('ANTES da captura:') # mensagem descritiva\n",
    "catches = chatbot.selectAllCatches( # função para selecionar todos os dados pessoais capturados\n",
    "    order_by='external_user_id', # campo de ordenação da lista de retorno\n",
    "    decreasing=False # se verdadeiro irá inverter a ordenação para a ordem decrescente\n",
    ") # retornará uma lista de dicionários com um dicionário para cada captura e uma chave com um nome e valor para cada campo\n",
    "for catche in catches: # loop que percorrerá cada captura que será representada pela variável de controle \"catche\"\n",
    "    # nas linhas seguintes serão exibidos os principais campos de cada uma das capturas cadastradas\n",
    "    print(f'DATA E HORA DA CAPTURA: {catche[\"datetime\"]}') # exibição da data e hora que a captura corrente foi feita\n",
    "    print(f'E-MAIL: {catche[\"email\"]}') # exibição do e-mail cadastrado na captura corrente\n",
    "    print(f'TELEFONE: {catche[\"phonenumber\"]}') # exibição do número de telefone cadastrado na captura corrente\n",
    "    print('\\n') # caractere de quebra de linha\n",
    "print(f'Número total de capturas cadastradas: {len(catches)}\\n') # exibição do número total de capturas cadastradas\n",
    "# nas linhas seguintes será demonstrado um exemplo de conversação para a captura de informações pessoais de contado\n",
    "question = 'O meu e-mail é fulano@gmail.com e o meu telefone é +55(11)1234-1234.' # mensagem de exemplo\n",
    "result = chatbot.conversation(external_user_id=1, question=question) # função para conversação com o bot\n",
    "print(f'PERGUNTA: {result[0][\"original_question\"]}') # exibe a pergunta original que foi feita para o bot\n",
    "print(f'RESPOSTA: {result[0][\"answer\"]}') # exibe a resposta mais provável para a pergunta\n",
    "print() # printa uma quebra de linha\n",
    "# nas linhas seguintes será demonstrado outro exemplo de conversação para a captura de informações pessoais de contado\n",
    "question = 'O meu e-mail é beotrano@gmail.com e o meu telefone é +55(11)2345-2345.' # mensagem de exemplo\n",
    "result = chatbot.conversation(external_user_id=2, question=question) # função para conversação com o bot\n",
    "print(f'PERGUNTA: {result[0][\"original_question\"]}') # exibe a pergunta original que foi feita para o bot\n",
    "print(f'RESPOSTA: {result[0][\"answer\"]}') # exibe a resposta mais provável para a pergunta\n",
    "print() # printa uma quebra de linha\n",
    "# base de dados para informações pessoais depois das capturas\n",
    "print('DEPOIS da captura:') # mensagem descritiva\n",
    "catches = chatbot.selectAllCatches( # função para selecionar todos os dados pessoais capturados\n",
    "    order_by='external_user_id', # campo de ordenação da lista de retorno\n",
    "    decreasing=False # se verdadeiro irá inverter a ordenação para a ordem decrescente\n",
    ") # retornará uma lista de dicionários com um dicionário para cada captura e uma chave com um nome e valor para cada campo\n",
    "for catche in catches: # loop que percorrerá cada captura que será representada pela variável de controle \"catche\"\n",
    "    # nas linhas seguintes serão exibidos os principais campos de cada uma das capturas cadastradas\n",
    "    print(f'DATA E HORA DA CAPTURA: {catche[\"datetime\"]}') # exibição da data e hora que a captura corrente foi feita\n",
    "    print(f'E-MAIL: {catche[\"email\"]}') # exibição do e-mail cadastrado na captura corrente\n",
    "    print(f'TELEFONE: {catche[\"phonenumber\"]}') # exibição do número de telefone cadastrado na captura corrente\n",
    "    print('\\n') # caractere de quebra de linha\n",
    "print(f'Número total de capturas cadastradas: {len(catches)}\\n') # exibição do número total de capturas cadastradas"
   ]
  },
  {
   "cell_type": "markdown",
   "metadata": {},
   "source": [
    "<h4>Seleção de Dados Pessoais Selecionados pelo ID do Usuário</h4>"
   ]
  },
  {
   "cell_type": "code",
   "execution_count": 16,
   "metadata": {},
   "outputs": [
    {
     "name": "stdout",
     "output_type": "stream",
     "text": [
      "DATA E HORA DA CAPTURA: 2022/11/4 12:46:30\n",
      "E-MAIL: beotrano@gmail.com\n",
      "TELEFONE: 551123452345\n"
     ]
    }
   ],
   "source": [
    "catche = chatbot.selectUseridCatches( # função para seleção de dados pessoais capturados com base no identificador do usuário\n",
    "    external_user_id=2, # código de identificação do usuário que terá a sua base de dados consultada\n",
    "    order_by='external_user_id', # campo de ordenação da lista de retorno\n",
    "    decreasing=False # se verdadeiro irá inverter a ordenação para a ordem decrescente\n",
    ") # retornará uma lista de dicionários com um dicionário para cada captura e uma chave com um nome e valor para cada campo\n",
    "# nas linhas seguintes serão exibidos os principais campos da primeira captura (de índice 0) cadastrada\n",
    "print(f'DATA E HORA DA CAPTURA: {catche[0][\"datetime\"]}') # exibição da data e hora que a captura foi feita\n",
    "print(f'E-MAIL: {catche[0][\"email\"]}') # exibição do e-mail cadastrado na captura\n",
    "print(f'TELEFONE: {catche[0][\"phonenumber\"]}') # exibição do número de telefone cadastrado na captura"
   ]
  },
  {
   "cell_type": "markdown",
   "metadata": {},
   "source": [
    "<h4>Exclusão/Deleção de Dados Pessoais Capturados</h4>"
   ]
  },
  {
   "cell_type": "code",
   "execution_count": 17,
   "metadata": {},
   "outputs": [
    {
     "name": "stdout",
     "output_type": "stream",
     "text": [
      "ANTES da deleção:\n",
      "DATA E HORA DA CAPTURA: 2022/11/4 12:46:30\n",
      "E-MAIL: fulano@gmail.com\n",
      "TELEFONE: 551112341234\n",
      "\n",
      "\n",
      "DATA E HORA DA CAPTURA: 2022/11/4 12:46:30\n",
      "E-MAIL: beotrano@gmail.com\n",
      "TELEFONE: 551123452345\n",
      "\n",
      "\n",
      "Número total de capturas cadastradas: 2\n",
      "\n",
      "Registro DELETADO com SUCESSO!\n",
      "\n",
      "DEPOIS da deleção:\n",
      "DATA E HORA DA CAPTURA: 2022/11/4 12:46:30\n",
      "E-MAIL: beotrano@gmail.com\n",
      "TELEFONE: 551123452345\n",
      "\n",
      "\n",
      "Número total de capturas cadastradas: 1\n",
      "\n"
     ]
    }
   ],
   "source": [
    "# base de dados para informações pessoais capturadas antes da deleção\n",
    "print('ANTES da deleção:') # mensagem descritiva\n",
    "# na linha seguinte serão selecionados todos os dados de informações pessoais ordenados pelo campo \"external_user_id\"\n",
    "catches = chatbot.selectAllCatches(order_by='external_user_id') # função para selecionar todos os dados pessoais capturados\n",
    "for catche in catches: # loop que percorrerá cada captura que será representada pela variável de controle \"catche\"\n",
    "    # nas linhas seguintes serão exibidos os principais campos de cada uma das capturas cadastradas\n",
    "    print(f'DATA E HORA DA CAPTURA: {catche[\"datetime\"]}') # exibição da data e hora que a captura corrente foi feita\n",
    "    print(f'E-MAIL: {catche[\"email\"]}') # exibição do e-mail cadastrado na captura corrente\n",
    "    print(f'TELEFONE: {catche[\"phonenumber\"]}') # exibição do número de telefone cadastrado na captura corrente\n",
    "    print('\\n') # caractere de quebra de linha\n",
    "print(f'Número total de capturas cadastradas: {len(catches)}\\n') # exibição do número total de capturas cadastradas\n",
    "# na linha seguinte serão deletadas as capturas do usuário com o identificador igual a 1\n",
    "result = chatbot.deleteUseridCatches(external_user_id=1) # função para deleção de captura\n",
    "# se o retorno da função \"deleteUseridCatches\" for verdadeiro então houve sucesso, caso contrário houve fracasso\n",
    "if result: print('Registro DELETADO com SUCESSO!\\n') # mensagem de sucesso\n",
    "else: print('ERRO ao deletar o registro.\\n') # mensagem de fracasso\n",
    "# base de dados para informações pessoais capturadas depois da deleção\n",
    "print('DEPOIS da deleção:') # mensagem descritiva\n",
    "# na linha seguinte serão selecionados todos os dados de informações pessoais ordenados pelo campo \"external_user_id\"\n",
    "catches = chatbot.selectAllCatches(order_by='external_user_id') # função para selecionar todos os dados pessoais capturados\n",
    "for catche in catches: # loop que percorrerá cada captura que será representada pela variável de controle \"catche\"\n",
    "    # nas linhas seguintes serão exibidos os principais campos de cada uma das capturas cadastradas\n",
    "    print(f'DATA E HORA DA CAPTURA: {catche[\"datetime\"]}') # exibição da data e hora que a captura corrente foi feita\n",
    "    print(f'E-MAIL: {catche[\"email\"]}') # exibição do e-mail cadastrado na captura corrente\n",
    "    print(f'TELEFONE: {catche[\"phonenumber\"]}') # exibição do número de telefone cadastrado na captura corrente\n",
    "    print('\\n') # caractere de quebra de linha\n",
    "print(f'Número total de capturas cadastradas: {len(catches)}\\n') # exibição do número total de capturas cadastradas"
   ]
  },
  {
   "cell_type": "markdown",
   "metadata": {},
   "source": [
    "<h4>Exclusão/Deleção de Todos os Dados Pessoais Capturados</h4>"
   ]
  },
  {
   "cell_type": "code",
   "execution_count": 18,
   "metadata": {},
   "outputs": [
    {
     "name": "stdout",
     "output_type": "stream",
     "text": [
      "ANTES da deleção COMPLETA:\n",
      "DATA E HORA DA CAPTURA: 2022/11/4 12:46:30\n",
      "E-MAIL: beotrano@gmail.com\n",
      "TELEFONE: 551123452345\n",
      "\n",
      "\n",
      "Número total de capturas cadastradas: 1\n",
      "\n",
      "TODOS os Registros DELETADOS com SUCESSO!\n",
      "\n",
      "DEPOIS da deleção COMPLETA:\n",
      "Número total de capturas cadastradas: 0\n",
      "\n"
     ]
    }
   ],
   "source": [
    "# base de dados para informações pessoais capturadas antes da deleção completa\n",
    "print('ANTES da deleção COMPLETA:') # mensagem descritiva\n",
    "# na linha seguinte serão selecionados todos os dados de informações pessoais ordenados pelo campo \"external_user_id\"\n",
    "catches = chatbot.selectAllCatches(order_by='external_user_id') # função para selecionar todos os dados pessoais capturados\n",
    "for catche in catches: # loop que percorrerá cada captura que será representada pela variável de controle \"catche\"\n",
    "    # nas linhas seguintes serão exibidos os principais campos de cada uma das capturas cadastradas\n",
    "    print(f'DATA E HORA DA CAPTURA: {catche[\"datetime\"]}') # exibição da data e hora que a captura corrente foi feita\n",
    "    print(f'E-MAIL: {catche[\"email\"]}') # exibição do e-mail cadastrado na captura corrente\n",
    "    print(f'TELEFONE: {catche[\"phonenumber\"]}') # exibição do número de telefone cadastrado na captura corrente\n",
    "    print('\\n') # caractere de quebra de linha\n",
    "print(f'Número total de capturas cadastradas: {len(catches)}\\n') # exibição do número total de capturas cadastradas\n",
    "# na linha seguinte serão deletadas todas as capturas de dados pessoais vinculadas a qualquer usuário\n",
    "result = chatbot.deleteAllCatches() # função para deleção de todas as capturas de dados pessoais de todos os usuários\n",
    "# se o retorno da função \"deleteAllCatches\" for verdadeiro então houve sucesso, caso contrário houve fracasso\n",
    "if result: print('TODOS os Registros DELETADOS com SUCESSO!\\n') # mensagem de sucesso\n",
    "else: print('ERRO ao deletar todos os registros.\\n') # mensagem de fracasso\n",
    "# base de dados para informações pessoais capturadas depois da deleção completa\n",
    "print('DEPOIS da deleção COMPLETA:') # mensagem descritiva\n",
    "# na linha seguinte serão selecionados todos os dados de informações pessoais ordenados pelo campo \"external_user_id\"\n",
    "catches = chatbot.selectAllCatches(order_by='external_user_id') # função para selecionar todos os dados pessoais capturados\n",
    "for catche in catches: # loop que percorrerá cada captura que será representada pela variável de controle \"catche\"\n",
    "    # nas linhas seguintes serão exibidos os principais campos de cada uma das capturas cadastradas\n",
    "    print(f'DATA E HORA DA CAPTURA: {catche[\"datetime\"]}') # exibição da data e hora que a captura corrente foi feita\n",
    "    print(f'E-MAIL: {catche[\"email\"]}') # exibição do e-mail cadastrado na captura corrente\n",
    "    print(f'TELEFONE: {catche[\"phonenumber\"]}') # exibição do número de telefone cadastrado na captura corrente\n",
    "    print('\\n') # caractere de quebra de linha\n",
    "print(f'Número total de capturas cadastradas: {len(catches)}\\n') # exibição do número total de capturas cadastradas"
   ]
  },
  {
   "cell_type": "markdown",
   "metadata": {},
   "source": [
    "<hr>"
   ]
  },
  {
   "cell_type": "markdown",
   "metadata": {},
   "source": [
    "<h4>Seleção de Usuários Cadastrados por Consulta de Valores dos Campos</h4>"
   ]
  },
  {
   "cell_type": "code",
   "execution_count": 19,
   "metadata": {},
   "outputs": [
    {
     "name": "stdout",
     "output_type": "stream",
     "text": [
      "Seleleção com o método selectFullnameUser (1 selecionado(s)):\n",
      "ID: 1\n",
      "STR_ID: 1\n",
      "FULL_NAME: Fulano de Tal\n",
      "USER_NAME: fulano\n",
      "PASSWORD: 123\n",
      "GENDER: M\n",
      "ADMINISTRATOR: 1\n",
      "ACTIVATED: 1\n",
      "Seleleção com o método selectUsernameUser (1 selecionado(s)):\n",
      "ID: 1\n",
      "STR_ID: 1\n",
      "FULL_NAME: Fulano de Tal\n",
      "USER_NAME: fulano\n",
      "PASSWORD: 123\n",
      "GENDER: M\n",
      "ADMINISTRATOR: 1\n",
      "ACTIVATED: 1\n",
      "Seleção com o método selectPasswordUser (2 selecionado(s)):\n",
      "ID: 1\n",
      "STR_ID: 1\n",
      "FULL_NAME: Fulano de Tal\n",
      "USER_NAME: fulano\n",
      "PASSWORD: 123\n",
      "GENDER: M\n",
      "ADMINISTRATOR: 1\n",
      "ACTIVATED: 1\n"
     ]
    }
   ],
   "source": [
    "# seleção de usuários por consulta com base no nome completo\n",
    "user = chatbot.selectFullnameUser( # função para selecionar usuários filtrando pelo campo \"full_name\"\n",
    "    full_name='Fulano de Tal', # nome completo do usuário usado como critério de consulta\n",
    "    order_by='id', # campo de ordenação da lista de retorno\n",
    "    decreasing=False, # se verdadeiro irá inverter a ordenação para a ordem decrescente\n",
    "    only_activated=False # se verdadeiro retornará apenas os usuários que o valor do campo \"activated\" for igual a 1\n",
    ") # retornará uma lista de dicionários com um dicionário para cada usuário e uma chave com um nome e valor para cada campo\n",
    "print(f'Seleleção com o método selectFullnameUser ({len(user)} selecionado(s)):') # mensagem descritiva com o número de seleções\n",
    "# nas linhas seguintes será exibido somente o primeiro cadastro (de índice 0) retornado para não poluir a tela\n",
    "print(f'ID: {user[0][\"id\"]}') # exibição do código de identificação sequencial do usuário como número\n",
    "print(f'STR_ID: {user[0][\"str_id\"]}') # exibição do código de identificação sequencial do usuário como texto\n",
    "print(f'FULL_NAME: {user[0][\"full_name\"]}') # exibição do nome completo do usuário\n",
    "print(f'USER_NAME: {user[0][\"user_name\"]}') # exibição do nome para acesso ao sistema\n",
    "print(f'PASSWORD: {user[0][\"password\"]}') # exibição da senha de acesso ao sistema\n",
    "print(f'GENDER: {user[0][\"gender\"]}') # exibição do sexo do usuário, M (Masculino) ou F (Feminino)\n",
    "print(f'ADMINISTRATOR: {user[0][\"administrator\"]}') # exibição do estado de habilitação dos privilégios de administrador\n",
    "print(f'ACTIVATED: {user[0][\"activated\"]}') # exibição do estado de ativação do usuário\n",
    "# seleção de usuários por consulta com base no nome para acesso ao sistema\n",
    "user = chatbot.selectUsernameUser( # função para selecionar usuários filtrando pelo campo \"user_name\"\n",
    "    user_name='fulano', # nome para acesso ao sistema usado como critério de consulta\n",
    "    order_by='id', # campo de ordenação da lista de retorno\n",
    "    decreasing=False, # se verdadeiro irá inverter a ordenação para a ordem decrescente\n",
    "    only_activated=False # se verdadeiro retornará apenas os usuários que o valor do campo \"activated\" for igual a 1\n",
    ") # retornará uma lista de dicionários com um dicionário para cada usuário e uma chave com um nome e valor para cada campo\n",
    "print(f'Seleleção com o método selectUsernameUser ({len(user)} selecionado(s)):') # mensagem descritiva com o número de seleções\n",
    "# nas linhas seguintes será exibido somente o primeiro cadastro (de índice 0) retornado para não poluir a tela\n",
    "print(f'ID: {user[0][\"id\"]}') # exibição do código de identificação sequencial do usuário como número\n",
    "print(f'STR_ID: {user[0][\"str_id\"]}') # exibição do código de identificação sequencial do usuário como texto\n",
    "print(f'FULL_NAME: {user[0][\"full_name\"]}') # exibição do nome completo do usuário\n",
    "print(f'USER_NAME: {user[0][\"user_name\"]}') # exibição do nome para acesso ao sistema\n",
    "print(f'PASSWORD: {user[0][\"password\"]}') # exibição da senha de acesso ao sistema\n",
    "print(f'GENDER: {user[0][\"gender\"]}') # exibição do sexo do usuário, M (Masculino) ou F (Feminino)\n",
    "print(f'ADMINISTRATOR: {user[0][\"administrator\"]}') # exibição do estado de habilitação dos privilégios de administrador\n",
    "print(f'ACTIVATED: {user[0][\"activated\"]}') # exibição do estado de ativação do usuário\n",
    "# seleção de usuários por consulta com base na senha de acesso ao sistema\n",
    "user = chatbot.selectPasswordUser( # função para selecionar usuários filtrando pelo campo \"password\"\n",
    "    password='123', # senha de acesso ao sistema usada como critério de consulta\n",
    "    order_by='id', # campo de ordenação da lista de retorno\n",
    "    decreasing=False, # se verdadeiro irá inverter a ordenação para a ordem decrescente\n",
    "    only_activated=False # se verdadeiro retornará apenas os usuários que o valor do campo \"activated\" for igual a 1\n",
    ") # retornará uma lista de dicionários com um dicionário para cada usuário e uma chave com um nome e valor para cada campo\n",
    "print(f'Seleção com o método selectPasswordUser ({len(user)} selecionado(s)):') # mensagem descritiva com o número de seleções\n",
    "print(f'ID: {user[0][\"id\"]}') # exibição do código de identificação sequencial do usuário como número\n",
    "print(f'STR_ID: {user[0][\"str_id\"]}') # exibição do código de identificação sequencial do usuário como texto\n",
    "print(f'FULL_NAME: {user[0][\"full_name\"]}') # exibição do nome completo do usuário\n",
    "print(f'USER_NAME: {user[0][\"user_name\"]}') # exibição do nome para acesso ao sistema\n",
    "print(f'PASSWORD: {user[0][\"password\"]}') # exibição da senha de acesso ao sistema\n",
    "print(f'GENDER: {user[0][\"gender\"]}') # exibição do sexo do usuário, M (Masculino) ou F (Feminino)\n",
    "print(f'ADMINISTRATOR: {user[0][\"administrator\"]}') # exibição do estado de habilitação dos privilégios de administrador\n",
    "print(f'ACTIVATED: {user[0][\"activated\"]}') # exibição do estado de ativação do usuário"
   ]
  },
  {
   "cell_type": "code",
   "execution_count": 20,
   "metadata": {},
   "outputs": [
    {
     "name": "stdout",
     "output_type": "stream",
     "text": [
      "Seleção com o método selectUserLOGIN (1 selecionado(s)):\n",
      "ID: 1\n",
      "STR_ID: 1\n",
      "FULL_NAME: Fulano de Tal\n",
      "USER_NAME: fulano\n",
      "PASSWORD: 123\n",
      "GENDER: M\n",
      "ADMINISTRATOR: 1\n",
      "ACTIVATED: 1\n",
      "Seleção com o método selectGenderUser (3 selecionado(s)):\n",
      "ID: 1\n",
      "STR_ID: 1\n",
      "FULL_NAME: Fulano de Tal\n",
      "USER_NAME: fulano\n",
      "PASSWORD: 123\n",
      "GENDER: M\n",
      "ADMINISTRATOR: 1\n",
      "ACTIVATED: 1\n",
      "Seleção com o método selectAdministratorUser (4 selecionado(s)):\n",
      "ID: 2\n",
      "STR_ID: 2\n",
      "FULL_NAME: Beotrano de Tal\n",
      "USER_NAME: beotrano\n",
      "PASSWORD: 234\n",
      "GENDER: M\n",
      "ADMINISTRATOR: 0\n",
      "ACTIVATED: 1\n"
     ]
    }
   ],
   "source": [
    "# seleção de usuários por consulta com base nos dados de login\n",
    "user = chatbot.selectUserLOGIN( # função para selecionar usuários filtrando pelos campos \"user_name\" e \"password\"\n",
    "    user_name='fulano', # nome para acesso ao sistema usado como critério de consulta\n",
    "    password='123', # senha de acesso ao sistema usada como critério de consulta\n",
    "    order_by='id', # campo de ordenação da lista de retorno\n",
    "    decreasing=False, # se verdadeiro irá inverter a ordenação para a ordem decrescente\n",
    "    only_activated=False # se verdadeiro retornará apenas os usuários que o valor do campo \"activated\" for igual a 1\n",
    ") # retornará uma lista de dicionários com um dicionário para cada usuário e uma chave com um nome e valor para cada campo\n",
    "print(f'Seleção com o método selectUserLOGIN ({len(user)} selecionado(s)):') # mensagem descritiva com o número de seleções\n",
    "print(f'ID: {user[0][\"id\"]}') # exibição do código de identificação sequencial do usuário como número\n",
    "print(f'STR_ID: {user[0][\"str_id\"]}') # exibição do código de identificação sequencial do usuário como texto\n",
    "print(f'FULL_NAME: {user[0][\"full_name\"]}') # exibição do nome completo do usuário\n",
    "print(f'USER_NAME: {user[0][\"user_name\"]}') # exibição do nome para acesso ao sistema\n",
    "print(f'PASSWORD: {user[0][\"password\"]}') # exibição da senha de acesso ao sistema\n",
    "print(f'GENDER: {user[0][\"gender\"]}') # exibição do sexo do usuário, M (Masculino) ou F (Feminino)\n",
    "print(f'ADMINISTRATOR: {user[0][\"administrator\"]}') # exibição do estado de habilitação dos privilégios de administrador\n",
    "print(f'ACTIVATED: {user[0][\"activated\"]}') # exibição do estado de ativação do usuário\n",
    "# seleção de usuários por consulta com base no sexo do usuário\n",
    "user = chatbot.selectGenderUser( # função para selecionar usuários filtrando pelo campo \"gender\"\n",
    "    gender='M', # sexo do usuário usado como critério de consulta\n",
    "    order_by='id', # campo de ordenação da lista de retorno\n",
    "    decreasing=False, # se verdadeiro irá inverter a ordenação para a ordem decrescente\n",
    "    only_activated=False # se verdadeiro retornará apenas os usuários que o valor do campo \"activated\" for igual a 1\n",
    ") # retornará uma lista de dicionários com um dicionário para cada usuário e uma chave com um nome e valor para cada campo\n",
    "print(f'Seleção com o método selectGenderUser ({len(user)} selecionado(s)):') # mensagem descritiva com o número de seleções\n",
    "print(f'ID: {user[0][\"id\"]}') # exibição do código de identificação sequencial do usuário como número\n",
    "print(f'STR_ID: {user[0][\"str_id\"]}') # exibição do código de identificação sequencial do usuário como texto\n",
    "print(f'FULL_NAME: {user[0][\"full_name\"]}') # exibição do nome completo do usuário\n",
    "print(f'USER_NAME: {user[0][\"user_name\"]}') # exibição do nome para acesso ao sistema\n",
    "print(f'PASSWORD: {user[0][\"password\"]}') # exibição da senha de acesso ao sistema\n",
    "print(f'GENDER: {user[0][\"gender\"]}') # exibição do sexo do usuário, M (Masculino) ou F (Feminino)\n",
    "print(f'ADMINISTRATOR: {user[0][\"administrator\"]}') # exibição do estado de habilitação dos privilégios de administrador\n",
    "print(f'ACTIVATED: {user[0][\"activated\"]}') # exibição do estado de ativação do usuário\n",
    "# seleção de usuários por consulta com base no estado de privilégios de administrador\n",
    "user = chatbot.selectAdministratorUser( # função para selecionar usuários com base no estado de privilégios de administrador\n",
    "    administrator=0, # estado de habilitação dos privilégios de administrador usado como critério de consulta\n",
    "    order_by='id', # campo de ordenação da lista de retorno\n",
    "    decreasing=False, # se verdadeiro irá inverter a ordenação para a ordem decrescente\n",
    "    only_activated=False # se verdadeiro retornará apenas os usuários que o valor do campo \"activated\" for igual a 1\n",
    ") # retornará uma lista de dicionários com um dicionário para cada usuário e uma chave com um nome e valor para cada campo\n",
    "print(f'Seleção com o método selectAdministratorUser ({len(user)} selecionado(s)):') # mensagem descritiva com o número de seleções\n",
    "print(f'ID: {user[0][\"id\"]}') # exibição do código de identificação sequencial do usuário como número\n",
    "print(f'STR_ID: {user[0][\"str_id\"]}') # exibição do código de identificação sequencial do usuário como texto\n",
    "print(f'FULL_NAME: {user[0][\"full_name\"]}') # exibição do nome completo do usuário\n",
    "print(f'USER_NAME: {user[0][\"user_name\"]}') # exibição do nome para acesso ao sistema\n",
    "print(f'PASSWORD: {user[0][\"password\"]}') # exibição da senha de acesso ao sistema\n",
    "print(f'GENDER: {user[0][\"gender\"]}') # exibição do sexo do usuário, M (Masculino) ou F (Feminino)\n",
    "print(f'ADMINISTRATOR: {user[0][\"administrator\"]}') # exibição do estado de habilitação dos privilégios de administrador\n",
    "print(f'ACTIVATED: {user[0][\"activated\"]}') # exibição do estado de ativação do usuário"
   ]
  },
  {
   "cell_type": "code",
   "execution_count": 21,
   "metadata": {},
   "outputs": [
    {
     "name": "stdout",
     "output_type": "stream",
     "text": [
      "Seleção com o método selectActivatedUser (5 selecionado(s)):\n",
      "ID: 1\n",
      "STR_ID: 1\n",
      "FULL_NAME: Fulano de Tal\n",
      "USER_NAME: fulano\n",
      "PASSWORD: 123\n",
      "GENDER: M\n",
      "ADMINISTRATOR: 1\n",
      "ACTIVATED: 1\n"
     ]
    }
   ],
   "source": [
    "# seleção de usuários por consulta com base no estado de ativação\n",
    "user = chatbot.selectActivatedUser( # função para selecionar usuários com base no estado de ativação\n",
    "    activated=1, # estado de ativação usado como critério de consulta\n",
    "    order_by='id', # campo de ordenação da lista de retorno\n",
    "    decreasing=False # se verdadeiro irá inverter a ordenação para a ordem decrescente\n",
    ") # retornará uma lista de dicionários com um dicionário para cada usuário e uma chave com um nome e valor para cada campo\n",
    "print(f'Seleção com o método selectActivatedUser ({len(user)} selecionado(s)):') # mensagem descritiva com o número de seleções\n",
    "print(f'ID: {user[0][\"id\"]}') # exibição do código de identificação sequencial do usuário como número\n",
    "print(f'STR_ID: {user[0][\"str_id\"]}') # exibição do código de identificação sequencial do usuário como texto\n",
    "print(f'FULL_NAME: {user[0][\"full_name\"]}') # exibição do nome completo do usuário\n",
    "print(f'USER_NAME: {user[0][\"user_name\"]}') # exibição do nome para acesso ao sistema\n",
    "print(f'PASSWORD: {user[0][\"password\"]}') # exibição da senha de acesso ao sistema\n",
    "print(f'GENDER: {user[0][\"gender\"]}') # exibição do sexo do usuário, M (Masculino) ou F (Feminino)\n",
    "print(f'ADMINISTRATOR: {user[0][\"administrator\"]}') # exibição do estado de habilitação dos privilégios de administrador\n",
    "print(f'ACTIVATED: {user[0][\"activated\"]}') # exibição do estado de ativação do usuário"
   ]
  },
  {
   "cell_type": "markdown",
   "metadata": {},
   "source": [
    "<hr>"
   ]
  },
  {
   "cell_type": "markdown",
   "metadata": {},
   "source": [
    "<h4>Seleção de Registros Cadastrados por Consulta de Valores dos Campos</h4>"
   ]
  },
  {
   "cell_type": "code",
   "execution_count": 22,
   "metadata": {},
   "outputs": [
    {
     "name": "stdout",
     "output_type": "stream",
     "text": [
      "Seleção com o método selectUseridRegister (12 selecionado(s)):\n",
      "ID: 2\n",
      "STR_ID: 2\n",
      "EXTERNAL_USER_ID: 1\n",
      "STR_EXTERNAL_USER_ID: 1\n",
      "RELATIONSHIP_ID: 0\n",
      "STR_RELATIONSHIP_ID: 0\n",
      "QUESTION: Olá!\n",
      "ANSWER: Olá! Tudo bem?\n",
      "ACTIVATED: 1\n",
      "Seleção com o método selectUseridRelationshipRegister (6 selecionado(s)):\n",
      "ID: 2\n",
      "STR_ID: 2\n",
      "EXTERNAL_USER_ID: 1\n",
      "STR_EXTERNAL_USER_ID: 1\n",
      "RELATIONSHIP_ID: 0\n",
      "STR_RELATIONSHIP_ID: 0\n",
      "QUESTION: Olá!\n",
      "ANSWER: Olá! Tudo bem?\n",
      "ACTIVATED: 1\n"
     ]
    }
   ],
   "source": [
    "# seleção de registros por consulta com base no código identificador do usuário\n",
    "register = chatbot.selectUseridRegister( # função para selecionar registros com base no código identificador do usuário\n",
    "    external_user_id=1, # código identificador do usuário usado como critério de consulta\n",
    "    order_by='id', # campo de ordenação da lista de retorno\n",
    "    decreasing=False, # se verdadeiro irá inverter a ordenação para a ordem decrescente\n",
    "    only_activated=False # se verdadeiro retornará apenas os registros que o valor do campo \"activated\" for igual a 1\n",
    ") # retornará uma lista de dicionários com um dicionário para cada registro e uma chave com um nome e valor para cada campo\n",
    "print(f'Seleção com o método selectUseridRegister ({len(register)} selecionado(s)):') # mensagem descritiva com o número de seleções\n",
    "print(f'ID: {register[0][\"id\"]}') # exibição do código de identificação sequencial do registro como número\n",
    "print(f'STR_ID: {register[0][\"str_id\"]}') # exibição do código de identificação sequencial do registro como texto\n",
    "print(f'EXTERNAL_USER_ID: {register[0][\"external_user_id\"]}') # exibição do código de identificação do usuário como número\n",
    "print(f'STR_EXTERNAL_USER_ID: {register[0][\"str_external_user_id\"]}') # exibição do código de identificação do usuário como texto\n",
    "print(f'RELATIONSHIP_ID: {register[0][\"relationship_id\"]}') # exibição do código de um dos registros anteriores como número\n",
    "print(f'STR_RELATIONSHIP_ID: {register[0][\"str_relationship_id\"]}') # exibição do código de um dos registros anteriores como texto\n",
    "print(f'QUESTION: {register[0][\"question\"]}') # exibição da pergunta vinculada a resposta atual do campo \"answer\"\n",
    "print(f'ANSWER: {register[0][\"answer\"]}') # exibição da resposta para uma pergunta igual ou semelhante a do campo \"question\"\n",
    "print(f'ACTIVATED: {register[0][\"activated\"]}') # exibição do estado de ativação do registro\n",
    "# seleção de registros por consulta com base no código identificador do usuário e no código de relacionamento\n",
    "register = chatbot.selectUseridRelationshipRegister( # função para selecionar registros através dos códigos referentes\n",
    "    external_user_id=1, # código identificador do usuário usado como critério de consulta\n",
    "    relationship_id=0, # código identificador de um dos registros anteriores usado como critério de consulta\n",
    "    order_by='id', # campo de ordenação da lista de retorno\n",
    "    decreasing=False, # se verdadeiro irá inverter a ordenação para a ordem decrescente\n",
    "    only_activated=False # se verdadeiro retornará apenas os registros que o valor do campo \"activated\" for igual a 1\n",
    ") # retornará uma lista de dicionários com um dicionário para cada registro e uma chave com um nome e valor para cada campo\n",
    "print(f'Seleção com o método selectUseridRelationshipRegister ({len(register)} selecionado(s)):') # mensagem descritiva\n",
    "print(f'ID: {register[0][\"id\"]}') # exibição do código de identificação sequencial do registro como número\n",
    "print(f'STR_ID: {register[0][\"str_id\"]}') # exibição do código de identificação sequencial do registro como texto\n",
    "print(f'EXTERNAL_USER_ID: {register[0][\"external_user_id\"]}') # exibição do código de identificação do usuário como número\n",
    "print(f'STR_EXTERNAL_USER_ID: {register[0][\"str_external_user_id\"]}') # exibição do código de identificação do usuário como texto\n",
    "print(f'RELATIONSHIP_ID: {register[0][\"relationship_id\"]}') # exibição do código de um dos registros anteriores como número\n",
    "print(f'STR_RELATIONSHIP_ID: {register[0][\"str_relationship_id\"]}') # exibição do código de um dos registros anteriores como texto\n",
    "print(f'QUESTION: {register[0][\"question\"]}') # exibição da pergunta vinculada a resposta atual do campo \"answer\"\n",
    "print(f'ANSWER: {register[0][\"answer\"]}') # exibição da resposta para uma pergunta igual ou semelhante a do campo \"question\"\n",
    "print(f'ACTIVATED: {register[0][\"activated\"]}') # exibição do estado de ativação do registro"
   ]
  },
  {
   "cell_type": "code",
   "execution_count": 23,
   "metadata": {},
   "outputs": [
    {
     "name": "stdout",
     "output_type": "stream",
     "text": [
      "Seleção com o método selectUseridQuestionRegister (1 selecionado(s)):\n",
      "ID: 2\n",
      "STR_ID: 2\n",
      "EXTERNAL_USER_ID: 1\n",
      "STR_EXTERNAL_USER_ID: 1\n",
      "RELATIONSHIP_ID: 0\n",
      "STR_RELATIONSHIP_ID: 0\n",
      "QUESTION: Olá!\n",
      "ANSWER: Olá! Tudo bem?\n",
      "ACTIVATED: 1\n",
      "Seleção com o método selectUseridAnswerRegister (1 selecionado(s)):\n",
      "ID: 2\n",
      "STR_ID: 2\n",
      "EXTERNAL_USER_ID: 1\n",
      "STR_EXTERNAL_USER_ID: 1\n",
      "RELATIONSHIP_ID: 0\n",
      "STR_RELATIONSHIP_ID: 0\n",
      "QUESTION: Olá!\n",
      "ANSWER: Olá! Tudo bem?\n",
      "ACTIVATED: 1\n"
     ]
    }
   ],
   "source": [
    "# seleção de registros por consulta com base no código identificador do usuário e na pergunta\n",
    "register = chatbot.selectUseridQuestionRegister( # função para selecionar registros através do ID do usuário e da pergunta\n",
    "    external_user_id=1, # código identificador do usuário usado como critério de consulta\n",
    "    question='Olá!', # pergunta usada como critério de consulta\n",
    "    order_by='id', # campo de ordenação da lista de retorno\n",
    "    decreasing=False, # se verdadeiro irá inverter a ordenação para a ordem decrescente\n",
    "    only_activated=False # se verdadeiro retornará apenas os registros que o valor do campo \"activated\" for igual a 1\n",
    ") # retornará uma lista de dicionários com um dicionário para cada registro e uma chave com um nome e valor para cada campo\n",
    "print(f'Seleção com o método selectUseridQuestionRegister ({len(register)} selecionado(s)):') # mensagem descritiva\n",
    "print(f'ID: {register[0][\"id\"]}') # exibição do código de identificação sequencial do registro como número\n",
    "print(f'STR_ID: {register[0][\"str_id\"]}') # exibição do código de identificação sequencial do registro como texto\n",
    "print(f'EXTERNAL_USER_ID: {register[0][\"external_user_id\"]}') # exibição do código de identificação do usuário como número\n",
    "print(f'STR_EXTERNAL_USER_ID: {register[0][\"str_external_user_id\"]}') # exibição do código de identificação do usuário como texto\n",
    "print(f'RELATIONSHIP_ID: {register[0][\"relationship_id\"]}') # exibição do código de um dos registros anteriores como número\n",
    "print(f'STR_RELATIONSHIP_ID: {register[0][\"str_relationship_id\"]}') # exibição do código de um dos registros anteriores como texto\n",
    "print(f'QUESTION: {register[0][\"question\"]}') # exibição da pergunta vinculada a resposta atual do campo \"answer\"\n",
    "print(f'ANSWER: {register[0][\"answer\"]}') # exibição da resposta para uma pergunta igual ou semelhante a do campo \"question\"\n",
    "print(f'ACTIVATED: {register[0][\"activated\"]}') # exibição do estado de ativação do registro\n",
    "# seleção de registros por consulta com base no código identificador do usuário e na resposta\n",
    "register = chatbot.selectUseridAnswerRegister( # função para selecionar registros através do ID do usuário e da resposta\n",
    "    external_user_id=1, # código identificador do usuário usado como critério de consulta\n",
    "    answer='Olá! Tudo bem?', # resposta usada como critério de consulta\n",
    "    order_by='id', # campo de ordenação da lista de retorno\n",
    "    decreasing=False, # se verdadeiro irá inverter a ordenação para a ordem decrescente\n",
    "    only_activated=False # se verdadeiro retornará apenas os registros que o valor do campo \"activated\" for igual a 1\n",
    ") # retornará uma lista de dicionários com um dicionário para cada registro e uma chave com um nome e valor para cada campo\n",
    "print(f'Seleção com o método selectUseridAnswerRegister ({len(register)} selecionado(s)):') # mensagem descritiva\n",
    "print(f'ID: {register[0][\"id\"]}') # exibição do código de identificação sequencial do registro como número\n",
    "print(f'STR_ID: {register[0][\"str_id\"]}') # exibição do código de identificação sequencial do registro como texto\n",
    "print(f'EXTERNAL_USER_ID: {register[0][\"external_user_id\"]}') # exibição do código de identificação do usuário como número\n",
    "print(f'STR_EXTERNAL_USER_ID: {register[0][\"str_external_user_id\"]}') # exibição do código de identificação do usuário como texto\n",
    "print(f'RELATIONSHIP_ID: {register[0][\"relationship_id\"]}') # exibição do código de um dos registros anteriores como número\n",
    "print(f'STR_RELATIONSHIP_ID: {register[0][\"str_relationship_id\"]}') # exibição do código de um dos registros anteriores como texto\n",
    "print(f'QUESTION: {register[0][\"question\"]}') # exibição da pergunta vinculada a resposta atual do campo \"answer\"\n",
    "print(f'ANSWER: {register[0][\"answer\"]}') # exibição da resposta para uma pergunta igual ou semelhante a do campo \"question\"\n",
    "print(f'ACTIVATED: {register[0][\"activated\"]}') # exibição do estado de ativação do registro"
   ]
  },
  {
   "cell_type": "code",
   "execution_count": 24,
   "metadata": {},
   "outputs": [
    {
     "name": "stdout",
     "output_type": "stream",
     "text": [
      "Seleção com o método selectUseridActivatedRegister (12 selecionado(s)):\n",
      "ID: 2\n",
      "STR_ID: 2\n",
      "EXTERNAL_USER_ID: 1\n",
      "STR_EXTERNAL_USER_ID: 1\n",
      "RELATIONSHIP_ID: 0\n",
      "STR_RELATIONSHIP_ID: 0\n",
      "QUESTION: Olá!\n",
      "ANSWER: Olá! Tudo bem?\n",
      "ACTIVATED: 1\n"
     ]
    }
   ],
   "source": [
    "# seleção de registros por consulta com base no estado de ativação\n",
    "register = chatbot.selectUseridActivatedRegister( # função para selecionar registros com base no estado de ativação\n",
    "    external_user_id=1, # código identificador do usuário usado como critério de consulta\n",
    "    activated=1, # estado de ativação usado como critério de consulta\n",
    "    order_by='id', # campo de ordenação da lista de retorno\n",
    "    decreasing=False # se verdadeiro irá inverter a ordenação para a ordem decrescente\n",
    ") # retornará uma lista de dicionários com um dicionário para cada registro e uma chave com um nome e valor para cada campo\n",
    "print(f'Seleção com o método selectUseridActivatedRegister ({len(register)} selecionado(s)):') # mensagem descritiva\n",
    "print(f'ID: {register[0][\"id\"]}') # exibição do código de identificação sequencial do registro como número\n",
    "print(f'STR_ID: {register[0][\"str_id\"]}') # exibição do código de identificação sequencial do registro como texto\n",
    "print(f'EXTERNAL_USER_ID: {register[0][\"external_user_id\"]}') # exibição do código de identificação do usuário como número\n",
    "print(f'STR_EXTERNAL_USER_ID: {register[0][\"str_external_user_id\"]}') # exibição do código de identificação do usuário como texto\n",
    "print(f'RELATIONSHIP_ID: {register[0][\"relationship_id\"]}') # exibição do código de um dos registros anteriores como número\n",
    "print(f'STR_RELATIONSHIP_ID: {register[0][\"str_relationship_id\"]}') # exibição do código de um dos registros anteriores como texto\n",
    "print(f'QUESTION: {register[0][\"question\"]}') # exibição da pergunta vinculada a resposta atual do campo \"answer\"\n",
    "print(f'ANSWER: {register[0][\"answer\"]}') # exibição da resposta para uma pergunta igual ou semelhante a do campo \"question\"\n",
    "print(f'ACTIVATED: {register[0][\"activated\"]}') # exibição do estado de ativação do registro"
   ]
  },
  {
   "cell_type": "markdown",
   "metadata": {},
   "source": [
    "<hr>"
   ]
  },
  {
   "cell_type": "markdown",
   "metadata": {},
   "source": [
    "<h4>Exclusão/Deleção de Todos os Dados Vinculados ao Usuário</h4>"
   ]
  },
  {
   "cell_type": "code",
   "execution_count": 25,
   "metadata": {},
   "outputs": [
    {
     "name": "stdout",
     "output_type": "stream",
     "text": [
      "PERGUNTA: O meu e-mail é ciclano@gmail.com e o meu telefone é +55(11)2345-2345.\n",
      "RESPOSTA: Ok.\n",
      "\n",
      "ANTES da deleção:\n",
      "Dados do usuário (3): usuários: 1 - registros 12 - capturas: 1\n",
      "\n",
      "TODOS os Dados do usuário (3) DELETADOS com SUCESSO!\n",
      "\n",
      "DEPOIS da deleção:\n",
      "Dados do usuário (3): usuários: 1 - registros 0 - capturas: 0\n",
      "\n"
     ]
    }
   ],
   "source": [
    "user_id = 3 # código identificador do usuário usado como exemplo\n",
    "# nas linhas seguintes será demonstrado um exemplo de conversação para a captura de informações pessoais de contado\n",
    "question = 'O meu e-mail é ciclano@gmail.com e o meu telefone é +55(11)2345-2345.' # mensagem de exemplo\n",
    "result = chatbot.conversation(external_user_id=user_id, question=question) # função para conversação com o bot\n",
    "print(f'PERGUNTA: {result[0][\"original_question\"]}') # exibe a pergunta original que foi feita para o bot\n",
    "print(f'RESPOSTA: {result[0][\"answer\"]}') # exibe a resposta mais provável para a pergunta\n",
    "print() # printa uma quebra de linha\n",
    "# dados vinculados ao usuário correspondente antes da deleção\n",
    "print('ANTES da deleção:') # mensagem descritiva\n",
    "# como exemplo será selecionado o usuário que tenha o \"id\" igual a 3\n",
    "users = chatbot.selectIDUser(id=user_id) # função para seleção de usuários pelo código identificador\n",
    "registers = chatbot.selectUseridRegister(external_user_id=user_id) # função para seleção de registros pelo ID do usuário\n",
    "catches = chatbot.selectUseridCatches(external_user_id=user_id) # função para seleção de capturas pelo ID do usuário\n",
    "# na linha seguinte será exibida uma mensagem com o ID do usuário, a quantidade de usuários com este ID,\n",
    "# a quantidade de registros vinculados a este usuário e a quantidade de dados pessoais capturados vinculados a este mesmo usuário\n",
    "print(f'Dados do usuário ({user_id}): usuários: {len(users)} - registros {len(registers)} - capturas: {len(catches)}\\n')\n",
    "# na linha seguinte serão deletados os dados vinculados ao usuário com o identificador igual a 3\n",
    "result = chatbot.deleteUserData(external_user_id=user_id) # função para deleção de dados vinculados ao usuário\n",
    "# se o retorno da função \"deleteUserData\" for verdadeiro então houve sucesso, caso contrário houve fracasso\n",
    "if result: print(f'TODOS os Dados do usuário ({user_id}) DELETADOS com SUCESSO!\\n') # mensagem de sucesso\n",
    "else: print('ERRO ao deletar todos os dados do usuário ({user_id}).\\n') # mensagem de fracasso\n",
    "# dados vinculados ao usuário correspondente depois da deleção\n",
    "print('DEPOIS da deleção:') # mensagem descritiva\n",
    "# como exemplo será selecionado o usuário que tenha o \"id\" igual a 3\n",
    "users = chatbot.selectIDUser(id=user_id) # função para seleção de usuários pelo código identificador\n",
    "registers = chatbot.selectUseridRegister(external_user_id=user_id) # função para seleção de registros pelo ID do usuário\n",
    "catches = chatbot.selectUseridCatches(external_user_id=user_id) # função para seleção de capturas pelo ID do usuário\n",
    "# na linha seguinte será exibida uma mensagem com o ID do usuário, a quantidade de usuários com este ID,\n",
    "# a quantidade de registros vinculados a este usuário e a quantidade de dados pessoais capturados vinculados a este mesmo usuário\n",
    "print(f'Dados do usuário ({user_id}): usuários: {len(users)} - registros {len(registers)} - capturas: {len(catches)}\\n')"
   ]
  },
  {
   "cell_type": "markdown",
   "metadata": {},
   "source": [
    "<hr>\n",
    "<h4>Salvamento do Modelo Pré-Treinado</h4>"
   ]
  },
  {
   "cell_type": "code",
   "execution_count": 26,
   "metadata": {},
   "outputs": [
    {
     "name": "stdout",
     "output_type": "stream",
     "text": [
      "Modelo de Inteligência Artificial SALVO com SUCESSO!\n"
     ]
    }
   ],
   "source": [
    "# código para o salvamento do modelo de inteligência artificial treinado pelo chatbot\n",
    "result = chatbot.saveModel( # função para salvamento do modelo pré-treinado\n",
    "    url_path='./modelo_chatbot' # endereço com o diretório e nome do arquivo modelo que será salvo\n",
    ") # retornará verdadeiro se o modelo for salvo com sucesso ou falso caso contrário\n",
    "if result: print('Modelo de Inteligência Artificial SALVO com SUCESSO!') # mensagem de sucesso\n",
    "else: print('ERRO ao salvar o modelo de Inteligência Artificial.') # mensagem de fracasso"
   ]
  },
  {
   "cell_type": "markdown",
   "metadata": {},
   "source": [
    "<hr>\n",
    "<h4>Carregamento do Modelo Pré-Treinado</h4>"
   ]
  },
  {
   "cell_type": "code",
   "execution_count": 27,
   "metadata": {},
   "outputs": [
    {
     "name": "stdout",
     "output_type": "stream",
     "text": [
      "Modelo de Inteligência Artificial CARREGADO com SUCESSO!\n"
     ]
    }
   ],
   "source": [
    "# importação dos módulos que serão usados no código de exemplo para o teste de uma nova instanciação completamente do zero\n",
    "from Neuraline.ObjectiveAI.chatbot import Chatbot # importação da classe do chatbot\n",
    "bot = Chatbot() # instanciação do objeto da classe do chatbot\n",
    "# código para o carregamento do modelo de inteligência artificial treinado pelo chatbot\n",
    "result = bot.loadModel( # função para carregamento do modelo pré-treinado\n",
    "    url_path='./modelo_chatbot' # endereço com o diretório e nome do arquivo modelo que será salvo\n",
    ") # retornará verdadeiro se o modelo for carregado com sucesso ou falso caso contrário\n",
    "if result: print('Modelo de Inteligência Artificial CARREGADO com SUCESSO!') # mensagem de sucesso\n",
    "else: print('ERRO ao carregar o modelo de Inteligência Artificial.') # mensagem de fracasso"
   ]
  },
  {
   "cell_type": "code",
   "execution_count": 28,
   "metadata": {},
   "outputs": [
    {
     "name": "stdout",
     "output_type": "stream",
     "text": [
      "PERGUNTA: Olá!\n",
      "RESPOSTA: Olá! Tudo bem?\n"
     ]
    }
   ],
   "source": [
    "# exemplo de conversação com o modelo pré-treinado de inteligência artificial\n",
    "question = 'Olá!' # pergunta que será feita para o chatbot\n",
    "result = bot.conversation(1, question, 'pt-br') # chamada da função de conversação\n",
    "# no caso de múltiplos retornos, quanto mais próximo de 0 for o índice de resultado, mais precisa será a resposta\n",
    "print(f'PERGUNTA: {result[0][\"original_question\"]}') # exibe a pergunta original que foi feita para o chatbot\n",
    "print(f'RESPOSTA: {result[0][\"answer\"]}') # exibe a resposta mais provável para a pergunta"
   ]
  },
  {
   "cell_type": "code",
   "execution_count": 29,
   "metadata": {},
   "outputs": [
    {
     "name": "stdout",
     "output_type": "stream",
     "text": [
      "PERGUNTA: tudo bem e vc?\n",
      "RESPOSTA: Que bom, eu estou bem também.\n"
     ]
    }
   ],
   "source": [
    "# exemplo de conversação com o modelo pré-treinado de inteligência artificial\n",
    "question = 'tudo bem e vc?' # observe que essa questão não está cadastrada mas a IA do modelo será capaz de entender\n",
    "# obs¹: como o parâmetro de abreviações foi definido para o português do brasil a sigla \"vc\" será entendida como \"você\"\n",
    "# obs²: o modelo é capaz de interpretar as palavras independente das letras estarem em maiúsculas ou minúsculas\n",
    "# obs³: a inteligência artificial do modelo conseguirá interpretar textos não cadastrados\n",
    "# que tenham o mesmo sentido gramatical dos textos cadastrados ou que tenham sentido semelhante\n",
    "result = bot.conversation(1, question, 'pt-br') # chamada da função de conversação\n",
    "# no caso de múltiplos retornos, quanto mais próximo de 0 for o índice de resultado, mais precisa será a resposta\n",
    "print(f'PERGUNTA: {result[0][\"original_question\"]}') # exibe a pergunta original que foi feita para o chatbot\n",
    "print(f'RESPOSTA: {result[0][\"answer\"]}') # exibe a resposta mais provável para a pergunta"
   ]
  },
  {
   "cell_type": "code",
   "execution_count": 30,
   "metadata": {},
   "outputs": [
    {
     "name": "stdout",
     "output_type": "stream",
     "text": [
      "PERGUNTA: O que diabos é vc?\n",
      "RESPOSTA: Eu sou um chatbot.\n",
      "\n",
      "PERGUNTA: o que eh um chatbot?\n",
      "RESPOSTA: É um sistema de respostas automatizadas.\n"
     ]
    }
   ],
   "source": [
    "# também é possível realizar novos cadastros ao modelo pré-existente que foi carregado\n",
    "bot.insertRegister(38, 1, 0, 'O que é você?', 'Eu sou um chatbot.') # função de inserção\n",
    "bot.insertRegister(39, 1, 38, 'O que é um chatbot?', 'É um sistema de respostas automatizadas.') # função de inserção\n",
    "# exemplo de conversação com os novos dados inseridos ao modelo\n",
    "result = bot.conversation(1, 'O que diabos é vc?', 'pt-br') # chamada da função de conversação\n",
    "# no caso de múltiplos retornos, quanto mais próximo de 0 for o índice de resultado, mais precisa será a resposta\n",
    "print(f'PERGUNTA: {result[0][\"original_question\"]}') # exibe a pergunta original que foi feita para o chatbot\n",
    "print(f'RESPOSTA: {result[0][\"answer\"]}') # exibe a resposta mais provável para a pergunta\n",
    "print() # printa uma quebra de linha\n",
    "# exemplo de conversação com os novos dados inseridos ao modelo\n",
    "result = bot.conversation(1, 'o que eh um chatbot?', 'pt-br') # chamada da função de conversação\n",
    "# no caso de múltiplos retornos, quanto mais próximo de 0 for o índice de resultado, mais precisa será a resposta\n",
    "print(f'PERGUNTA: {result[0][\"original_question\"]}') # exibe a pergunta original que foi feita para o chatbot\n",
    "print(f'RESPOSTA: {result[0][\"answer\"]}') # exibe a resposta mais provável para a pergunta"
   ]
  },
  {
   "cell_type": "markdown",
   "metadata": {},
   "source": [
    "<hr>"
   ]
  },
  {
   "cell_type": "markdown",
   "metadata": {},
   "source": [
    "<h4>Deploy do Modelo de ChatBot como API e Aplicações WEB e Desktop</h4>"
   ]
  },
  {
   "cell_type": "code",
   "execution_count": 31,
   "metadata": {},
   "outputs": [
    {
     "name": "stdout",
     "output_type": "stream",
     "text": [
      "Deploy para Desktop CONCLUÍDO com SUCESSO!\n",
      "Deploy para API CONCLUÍDO com SUCESSO!\n",
      "Deploy para Aplicação WEB CONCLUÍDO com SUCESSO!\n",
      "Neuraline IMPLANTADO com SUCESSO!\n"
     ]
    }
   ],
   "source": [
    "# as aplicações de deploy serão geradas com códigos genéricos que deverão ser personalizados de acordo com as suas necessidades\n",
    "# importação dos módulos que serão usados no código\n",
    "from Neuraline.Utilities.deploy import Deploy # importação da classe de deploy\n",
    "from shutil import copytree # importação da função nativa do python para cópia de diretórios\n",
    "# código para instanciação do objeto da classe de deploy\n",
    "deploy = Deploy( # instanciação da classe dentro da variável objeto\n",
    "    model='./modelo_chatbot' # endereço com o diretório e nome do arquivo modelo que será carregado\n",
    ") # a variável de instanciação do objeto será usada para acessar os recursos da classe\n",
    "# deploy do modelo como aplicação desktop\n",
    "result = deploy.deployDESKAPP() # função para geração da aplicação desktop do modelo\n",
    "# retornará verdadeiro se o deploy da aplicação desktop for gerado com sucesso ou falso caso contrário\n",
    "if result: print('Deploy para Desktop CONCLUÍDO com SUCESSO!') # mensagem de sucesso\n",
    "else: print('ERRO ao executar o deploy para Desktop.') # mensagem de fracasso\n",
    "# deploy do modelo como api que poderá ser conectada a qualquer aplicação de qualquer linguagem de programação\n",
    "result = deploy.deployAPI() # função para geração da api do modelo\n",
    "# retornará verdadeiro se o deploy da api for gerado com sucesso ou falso caso contrário\n",
    "if result: print('Deploy para API CONCLUÍDO com SUCESSO!') # mensagem de sucesso\n",
    "else: print('ERRO ao executar o deploy para API.') # mensagem de fracasso\n",
    "# deploy do modelo como aplicação web\n",
    "result = deploy.deployWEBAPP() # função para geração da aplicação web do modelo\n",
    "# retornará verdadeiro se o deploy da aplicação web for gerado com sucesso ou falso caso contrário\n",
    "if result: print('Deploy para Aplicação WEB CONCLUÍDO com SUCESSO!') # mensagem de sucesso\n",
    "else: print('ERRO ao executar o deploy para Aplicação WEB.') # mensagem de fracasso\n",
    "# código para copiar o diretório de algoritmos do neuraline necessário para a execução das aplicações de deploy\n",
    "# obs¹: os projetos deverão ser distribuídos com o diretório do neuraline na pasta raiz\n",
    "# obs²: não será necessária a assinatura da biblioteca na máquina do cliente para executar as aplicações de deploy\n",
    "# mas o cliente deverá ter o python 3.10 ou superior instalado com as dependências da biblioteca na máquina local\n",
    "try: # se a cópia automática do diretório da biblioteca falhar você poderá copiá-lo manualmente\n",
    "    result = copytree( # função para a cópia de diretórios com todo o conteúdo dos mesmos\n",
    "        './Neuraline', # endereço do diretório a ser copiado\n",
    "        './deploy/chatbot/Neuraline' # endereço com o novo nome do diretório de destino\n",
    "    ) # em caso de sucesso será retornada uma string com o endereço de destino\n",
    "    if len(result) > 0: print('Neuraline IMPLANTADO com SUCESSO!') # mensagem de sucesso\n",
    "    else: print('ERRO ao implantar o Neuraline.') # mensagem de fracasso\n",
    "except: print('Copie o diretório Neuraline para dentro do endereço ./deploy/chatbot/ manualmente.') # mensagem de aviso"
   ]
  },
  {
   "cell_type": "markdown",
   "metadata": {},
   "source": [
    "<h4>Deploy do Modelo de ChatBot como Single-Page Application</h4>"
   ]
  },
  {
   "cell_type": "code",
   "execution_count": 32,
   "metadata": {},
   "outputs": [
    {
     "name": "stdout",
     "output_type": "stream",
     "text": [
      "Deploy para Front-End CONCLUÍDO com SUCESSO!\n"
     ]
    }
   ],
   "source": [
    "# código para a geração do deploy do modelo em uma única página totalmente front-end e multiplataforma\n",
    "result = chatbot.deployFrontEnd( # função para geração da aplicação front-end do modelo\n",
    "    external_user_id=1 # código identificador do usuário que terá seus dados usados na geração do deploy\n",
    ") # retornará verdadeiro se o deploy da aplicação front-end for gerado com sucesso ou falso caso contrário\n",
    "# se a geração do deploy retornar verdadeiro será exibida uma mensagem de sucesso, caso contrário uma mensagem de fracasso\n",
    "if result: print('Deploy para Front-End CONCLUÍDO com SUCESSO!') # mensagem de sucesso\n",
    "else: print('ERRO ao executar o deploy para Front-End.') # mensagem de fracasso"
   ]
  }
 ],
 "metadata": {
  "kernelspec": {
   "display_name": "Python 3.10.6 64-bit",
   "language": "python",
   "name": "python3"
  },
  "language_info": {
   "codemirror_mode": {
    "name": "ipython",
    "version": 3
   },
   "file_extension": ".py",
   "mimetype": "text/x-python",
   "name": "python",
   "nbconvert_exporter": "python",
   "pygments_lexer": "ipython3",
   "version": "3.10.6"
  },
  "orig_nbformat": 4,
  "vscode": {
   "interpreter": {
    "hash": "916dbcbb3f70747c44a77c7bcd40155683ae19c65e1c03b4aa3499c5328201f1"
   }
  }
 },
 "nbformat": 4,
 "nbformat_minor": 2
}
